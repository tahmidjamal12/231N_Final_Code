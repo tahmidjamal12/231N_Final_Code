{
  "nbformat": 4,
  "nbformat_minor": 0,
  "metadata": {
    "colab": {
      "provenance": [],
      "gpuType": "A100",
      "include_colab_link": true
    },
    "kernelspec": {
      "name": "python3",
      "display_name": "Python 3"
    },
    "language_info": {
      "name": "python"
    },
    "accelerator": "GPU"
  },
  "cells": [
    {
      "cell_type": "markdown",
      "metadata": {
        "id": "view-in-github",
        "colab_type": "text"
      },
      "source": [
        "<a href=\"https://colab.research.google.com/github/tahmidjamal12/231N_Final_Code/blob/cutler/cutler/Cutler.ipynb\" target=\"_parent\"><img src=\"https://colab.research.google.com/assets/colab-badge.svg\" alt=\"Open In Colab\"/></a>"
      ]
    },
    {
      "cell_type": "code",
      "source": [
        "from google.colab import drive\n",
        "drive.mount('/content/drive')"
      ],
      "metadata": {
        "colab": {
          "base_uri": "https://localhost:8080/"
        },
        "id": "pbUSeWc0qPu2",
        "outputId": "01d437bf-700c-4b3f-d00f-22befce10345"
      },
      "execution_count": null,
      "outputs": [
        {
          "output_type": "stream",
          "name": "stdout",
          "text": [
            "Mounted at /content/drive\n"
          ]
        }
      ]
    },
    {
      "cell_type": "code",
      "execution_count": null,
      "metadata": {
        "colab": {
          "base_uri": "https://localhost:8080/"
        },
        "id": "q3jCuMveg-rY",
        "outputId": "959c9628-472a-4298-dbb6-61e8763223c4"
      },
      "outputs": [
        {
          "output_type": "stream",
          "name": "stdout",
          "text": [
            "\u001b[?25l   \u001b[90m━━━━━━━━━━━━━━━━━━━━━━━━━━━━━━━━━━━━━━━━\u001b[0m \u001b[32m0.0/17.1 MB\u001b[0m \u001b[31m?\u001b[0m eta \u001b[36m-:--:--\u001b[0m\r\u001b[2K   \u001b[90m━━━━━━━━━━━━━━━━━━━━━━━━━━━━━━━━━━━━━━━━\u001b[0m \u001b[32m0.2/17.1 MB\u001b[0m \u001b[31m4.4 MB/s\u001b[0m eta \u001b[36m0:00:04\u001b[0m\r\u001b[2K   \u001b[91m━━━\u001b[0m\u001b[91m╸\u001b[0m\u001b[90m━━━━━━━━━━━━━━━━━━━━━━━━━━━━━━━━━━━━\u001b[0m \u001b[32m1.6/17.1 MB\u001b[0m \u001b[31m23.3 MB/s\u001b[0m eta \u001b[36m0:00:01\u001b[0m\r\u001b[2K   \u001b[91m━━━━━━━━━━━━━━━━━━━\u001b[0m\u001b[90m╺\u001b[0m\u001b[90m━━━━━━━━━━━━━━━━━━━━\u001b[0m \u001b[32m8.2/17.1 MB\u001b[0m \u001b[31m79.6 MB/s\u001b[0m eta \u001b[36m0:00:01\u001b[0m\r\u001b[2K   \u001b[91m━━━━━━━━━━━━━━━━━━━━━━━━━━━━━━━━━━━━━━\u001b[0m\u001b[91m╸\u001b[0m\u001b[90m━\u001b[0m \u001b[32m16.5/17.1 MB\u001b[0m \u001b[31m240.3 MB/s\u001b[0m eta \u001b[36m0:00:01\u001b[0m\r\u001b[2K   \u001b[91m━━━━━━━━━━━━━━━━━━━━━━━━━━━━━━━━━━━━━━━\u001b[0m\u001b[91m╸\u001b[0m \u001b[32m17.0/17.1 MB\u001b[0m \u001b[31m232.7 MB/s\u001b[0m eta \u001b[36m0:00:01\u001b[0m\r\u001b[2K   \u001b[90m━━━━━━━━━━━━━━━━━━━━━━━━━━━━━━━━━━━━━━━━\u001b[0m \u001b[32m17.1/17.1 MB\u001b[0m \u001b[31m115.7 MB/s\u001b[0m eta \u001b[36m0:00:00\u001b[0m\n",
            "\u001b[?25h\u001b[31mERROR: pip's dependency resolver does not currently take into account all the packages that are installed. This behaviour is the source of the following dependency conflicts.\n",
            "albucore 0.0.24 requires numpy>=1.24.4, but you have numpy 1.23.5 which is incompatible.\n",
            "albumentations 2.0.8 requires numpy>=1.24.4, but you have numpy 1.23.5 which is incompatible.\n",
            "treescope 0.1.9 requires numpy>=1.25.2, but you have numpy 1.23.5 which is incompatible.\n",
            "pymc 5.23.0 requires numpy>=1.25.0, but you have numpy 1.23.5 which is incompatible.\n",
            "scikit-image 0.25.2 requires numpy>=1.24, but you have numpy 1.23.5 which is incompatible.\n",
            "imbalanced-learn 0.13.0 requires numpy<3,>=1.24.3, but you have numpy 1.23.5 which is incompatible.\n",
            "jaxlib 0.5.1 requires numpy>=1.25, but you have numpy 1.23.5 which is incompatible.\n",
            "blosc2 3.3.4 requires numpy>=1.26, but you have numpy 1.23.5 which is incompatible.\n",
            "tensorflow 2.18.0 requires numpy<2.1.0,>=1.26.0, but you have numpy 1.23.5 which is incompatible.\n",
            "jax 0.5.2 requires numpy>=1.25, but you have numpy 1.23.5 which is incompatible.\n",
            "db-dtypes 1.4.3 requires numpy>=1.24.0, but you have numpy 1.23.5 which is incompatible.\n",
            "xarray 2025.3.1 requires numpy>=1.24, but you have numpy 1.23.5 which is incompatible.\n",
            "chex 0.1.89 requires numpy>=1.24.1, but you have numpy 1.23.5 which is incompatible.\n",
            "bigframes 2.4.0 requires numpy>=1.24.0, but you have numpy 1.23.5 which is incompatible.\n",
            "thinc 8.3.6 requires numpy<3.0.0,>=2.0.0, but you have numpy 1.23.5 which is incompatible.\n",
            "xarray-einstats 0.9.0 requires numpy>=1.25, but you have numpy 1.23.5 which is incompatible.\u001b[0m\u001b[31m\n",
            "\u001b[2K     \u001b[90m━━━━━━━━━━━━━━━━━━━━━━━━━━━━━━━━━━━━━━━━\u001b[0m \u001b[32m2.3/2.3 GB\u001b[0m \u001b[31m777.9 kB/s\u001b[0m eta \u001b[36m0:00:00\u001b[0m\n",
            "\u001b[2K     \u001b[90m━━━━━━━━━━━━━━━━━━━━━━━━━━━━━━━━━━━━━━━━\u001b[0m \u001b[32m6.1/6.1 MB\u001b[0m \u001b[31m126.9 MB/s\u001b[0m eta \u001b[36m0:00:00\u001b[0m\n",
            "\u001b[2K     \u001b[90m━━━━━━━━━━━━━━━━━━━━━━━━━━━━━━━━━━━━━━━━\u001b[0m \u001b[32m4.4/4.4 MB\u001b[0m \u001b[31m112.8 MB/s\u001b[0m eta \u001b[36m0:00:00\u001b[0m\n",
            "\u001b[2K     \u001b[90m━━━━━━━━━━━━━━━━━━━━━━━━━━━━━━━━━━━━━━━━\u001b[0m \u001b[32m63.3/63.3 MB\u001b[0m \u001b[31m36.4 MB/s\u001b[0m eta \u001b[36m0:00:00\u001b[0m\n",
            "\u001b[2K   \u001b[90m━━━━━━━━━━━━━━━━━━━━━━━━━━━━━━━━━━━━━━━━\u001b[0m \u001b[32m96.4/96.4 kB\u001b[0m \u001b[31m2.6 MB/s\u001b[0m eta \u001b[36m0:00:00\u001b[0m\n",
            "\u001b[2K   \u001b[90m━━━━━━━━━━━━━━━━━━━━━━━━━━━━━━━━━━━━━━━━\u001b[0m \u001b[32m27.0/27.0 MB\u001b[0m \u001b[31m89.5 MB/s\u001b[0m eta \u001b[36m0:00:00\u001b[0m\n",
            "\u001b[2K     \u001b[90m━━━━━━━━━━━━━━━━━━━━━━━━━━━━━━━━━━━━━━━\u001b[0m \u001b[32m22.2/22.2 MB\u001b[0m \u001b[31m109.7 MB/s\u001b[0m eta \u001b[36m0:00:00\u001b[0m\n",
            "\u001b[?25h  Installing build dependencies ... \u001b[?25l\u001b[?25hdone\n",
            "  Getting requirements to build wheel ... \u001b[?25l\u001b[?25hdone\n",
            "  Preparing metadata (pyproject.toml) ... \u001b[?25l\u001b[?25hdone\n",
            "\u001b[2K     \u001b[90m━━━━━━━━━━━━━━━━━━━━━━━━━━━━━━━━━━━━━━━━\u001b[0m \u001b[32m6.8/6.8 MB\u001b[0m \u001b[31m126.2 MB/s\u001b[0m eta \u001b[36m0:00:00\u001b[0m\n",
            "\u001b[?25h  Installing build dependencies ... \u001b[?25l\u001b[?25hdone\n",
            "  Getting requirements to build wheel ... \u001b[?25l\u001b[?25hdone\n",
            "  \u001b[1;31merror\u001b[0m: \u001b[1msubprocess-exited-with-error\u001b[0m\n",
            "  \n",
            "  \u001b[31m×\u001b[0m \u001b[32mPreparing metadata \u001b[0m\u001b[1;32m(\u001b[0m\u001b[32mpyproject.toml\u001b[0m\u001b[1;32m)\u001b[0m did not run successfully.\n",
            "  \u001b[31m│\u001b[0m exit code: \u001b[1;36m1\u001b[0m\n",
            "  \u001b[31m╰─>\u001b[0m See above for output.\n",
            "  \n",
            "  \u001b[1;35mnote\u001b[0m: This error originates from a subprocess, and is likely not a problem with pip.\n",
            "  Preparing metadata (pyproject.toml) ... \u001b[?25l\u001b[?25herror\n",
            "\u001b[1;31merror\u001b[0m: \u001b[1mmetadata-generation-failed\u001b[0m\n",
            "\n",
            "\u001b[31m×\u001b[0m Encountered error while generating package metadata.\n",
            "\u001b[31m╰─>\u001b[0m See above for output.\n",
            "\n",
            "\u001b[1;35mnote\u001b[0m: This is an issue with the package mentioned above, not pip.\n",
            "\u001b[1;36mhint\u001b[0m: See above for details.\n",
            "  Installing build dependencies ... \u001b[?25l\u001b[?25hdone\n",
            "  Getting requirements to build wheel ... \u001b[?25l\u001b[?25hdone\n",
            "  Preparing metadata (pyproject.toml) ... \u001b[?25l\u001b[?25hdone\n",
            "  Building wheel for pydensecrf (pyproject.toml) ... \u001b[?25l\u001b[?25hdone\n"
          ]
        }
      ],
      "source": [
        "# ─────────────────────────────────────────────────────────────────────────────\n",
        "# (A) Downgrade NumPy to 1.23.5 so that the older scikit-learn & scikit-image wheels exist\n",
        "# ─────────────────────────────────────────────────────────────────────────────\n",
        "!pip install --quiet numpy==1.23.5\n",
        "\n",
        "# ─────────────────────────────────────────────────────────────────────────────\n",
        "# (B) Install PyTorch 2.0.1+cu118, torchvision 0.15.2+cu118, torchaudio 2.0.2+cu118\n",
        "#     (These wheels are built against CUDA 11.x for Python 3.11 + NumPy 1.23.x)\n",
        "# ─────────────────────────────────────────────────────────────────────────────\n",
        "!pip install --quiet \\\n",
        "    torch==2.0.1+cu118 torchvision==0.15.2+cu118 torchaudio==2.0.2+cu118 \\\n",
        "    --extra-index-url https://download.pytorch.org/whl/cu118\n",
        "\n",
        "# ─────────────────────────────────────────────────────────────────────────────\n",
        "# (C) Install FAISS CPU 1.8.0\n",
        "# ─────────────────────────────────────────────────────────────────────────────\n",
        "!pip install --quiet faiss-cpu==1.8.0\n",
        "\n",
        "# ─────────────────────────────────────────────────────────────────────────────\n",
        "# (D) Install the exact versions of the remaining packages you need:\n",
        "#     • opencv-python==4.6.0.66\n",
        "#     • scikit-image==0.19.2\n",
        "#     • scikit-learn==1.1.1\n",
        "#     • shapely==1.8.2\n",
        "#     • timm==0.5.4\n",
        "#     • pyyaml==6.0\n",
        "#     • colored==1.4.4\n",
        "#     • fvcore==0.1.5.post20220512\n",
        "#     • gdown==4.5.4\n",
        "#     • pycocotools==2.0.6\n",
        "# ─────────────────────────────────────────────────────────────────────────────\n",
        "!pip install --quiet \\\n",
        "    opencv-python==4.6.0.66 \\\n",
        "    scikit-image==0.19.2 \\\n",
        "    scikit-learn==1.1.1 \\\n",
        "    shapely==1.8.2 \\\n",
        "    timm==0.5.4 \\\n",
        "    pyyaml==6.0 \\\n",
        "    colored==1.4.4 \\\n",
        "    fvcore==0.1.5.post20220512 \\\n",
        "    gdown==4.5.4 \\\n",
        "    pycocotools==2.0.6\n",
        "\n",
        "# ─────────────────────────────────────────────────────────────────────────────\n",
        "# (E) Finally, install pydensecrf from GitHub\n",
        "# ─────────────────────────────────────────────────────────────────────────────\n",
        "!pip install --quiet git+https://github.com/lucasb-eyer/pydensecrf.git\n"
      ]
    },
    {
      "cell_type": "code",
      "source": [
        "# 1) Change to the CutLER-main directory\n",
        "%cd /content/drive/MyDrive/CutLER-main\n",
        "!mkdir -p third_party\n",
        "%cd third_party\n",
        "\n",
        "# 2) Clone TokenCut (if it isn’t already present)\n",
        "!git clone https://github.com/YangtaoWANG95/TokenCut\n",
        "\n",
        "# 3) Install TokenCut in editable mode so that `import TokenCut` works\n",
        "%cd TokenCut\n",
        "!pip install -e .\n",
        "\n",
        "# 4) Go back to CutLER-main\n",
        "%cd /content/drive/MyDrive/CutLER-main"
      ],
      "metadata": {
        "colab": {
          "base_uri": "https://localhost:8080/"
        },
        "id": "WSUrqq55vET8",
        "outputId": "dc8fedb4-016c-4a61-c738-20c5c4e1000a"
      },
      "execution_count": null,
      "outputs": [
        {
          "output_type": "stream",
          "name": "stdout",
          "text": [
            "/content/drive/MyDrive/CutLER-main\n",
            "/content/drive/MyDrive/CutLER-main/third_party\n",
            "fatal: destination path 'TokenCut' already exists and is not an empty directory.\n",
            "/content/drive/MyDrive/CutLER-main/third_party/TokenCut\n",
            "Obtaining file:///content/drive/MyDrive/CutLER-main/third_party/TokenCut\n",
            "\u001b[31mERROR: file:///content/drive/MyDrive/CutLER-main/third_party/TokenCut does not appear to be a Python project: neither 'setup.py' nor 'pyproject.toml' found.\u001b[0m\u001b[31m\n",
            "\u001b[0m/content/drive/MyDrive/CutLER-main\n"
          ]
        }
      ]
    },
    {
      "cell_type": "code",
      "source": [
        "!pwd\n",
        "%cd drive/MyDrive/CutLER-main/\n",
        "!pwd\n",
        "!ls"
      ],
      "metadata": {
        "colab": {
          "base_uri": "https://localhost:8080/"
        },
        "id": "NeDWh4lbqX6v",
        "outputId": "e4cbb7e0-d95d-4015-dfa6-5000cc66237a"
      },
      "execution_count": null,
      "outputs": [
        {
          "output_type": "stream",
          "name": "stdout",
          "text": [
            "/content/drive/MyDrive/CutLER-main\n",
            "[Errno 2] No such file or directory: 'drive/MyDrive/CutLER-main/'\n",
            "/content/drive/MyDrive/CutLER-main\n",
            "/content/drive/MyDrive/CutLER-main\n",
            "CODE_OF_CONDUCT.md  dataset\tLICENSE\t\t  segmentation\n",
            "cog.yaml\t    datasets\tmaskcut\t\t  third_party\n",
            "CONTRIBUTING.md     docs\tREADME.md\t  TokenCut\n",
            "cutler\t\t    INSTALL.md\trequirements.txt  videocutler\n"
          ]
        }
      ]
    },
    {
      "cell_type": "code",
      "source": [
        "!pwd\n",
        "!PYTHONPATH=/content/drive/MyDrive/CutLER-main \\\n",
        "python /content/drive/MyDrive/CutLER-main/segmentation/evaluate_autoseg.py \\\n",
        "  --save_dir './dataset/CutLER_annotations_smoothed' \\\n",
        "  --annotations_h5 './dataset/promerge_input_data_smoothed.h5' \\\n",
        "  --test 'vis' 'metrics'\n",
        "\n"
      ],
      "metadata": {
        "colab": {
          "base_uri": "https://localhost:8080/"
        },
        "id": "mO_XLYjXqq0l",
        "outputId": "f17239b6-e559-4ac7-85c7-524b7d214e1b"
      },
      "execution_count": null,
      "outputs": [
        {
          "output_type": "stream",
          "name": "stdout",
          "text": [
            "/content/drive/MyDrive/CutLER-main\n",
            "Saved visualization to ./dataset/CutLER_annotations_smoothed/vis/0.png\n",
            "Saved visualization to ./dataset/CutLER_annotations_smoothed/vis/1.png\n",
            "Saved visualization to ./dataset/CutLER_annotations_smoothed/vis/2.png\n",
            "Saved visualization to ./dataset/CutLER_annotations_smoothed/vis/3.png\n",
            "Saved visualization to ./dataset/CutLER_annotations_smoothed/vis/4.png\n",
            "Saved visualization to ./dataset/CutLER_annotations_smoothed/vis/5.png\n",
            "Saved visualization to ./dataset/CutLER_annotations_smoothed/vis/6.png\n",
            "Saved visualization to ./dataset/CutLER_annotations_smoothed/vis/7.png\n",
            "Saved visualization to ./dataset/CutLER_annotations_smoothed/vis/8.png\n",
            "Saved visualization to ./dataset/CutLER_annotations_smoothed/vis/9.png\n",
            "Saved visualization to ./dataset/CutLER_annotations_smoothed/vis/10.png\n",
            "Saved visualization to ./dataset/CutLER_annotations_smoothed/vis/11.png\n",
            "Saved visualization to ./dataset/CutLER_annotations_smoothed/vis/12.png\n",
            "Saved visualization to ./dataset/CutLER_annotations_smoothed/vis/13.png\n",
            "Saved visualization to ./dataset/CutLER_annotations_smoothed/vis/14.png\n",
            "Saved visualization to ./dataset/CutLER_annotations_smoothed/vis/15.png\n",
            "Saved visualization to ./dataset/CutLER_annotations_smoothed/vis/16.png\n",
            "Saved visualization to ./dataset/CutLER_annotations_smoothed/vis/17.png\n",
            "Saved visualization to ./dataset/CutLER_annotations_smoothed/vis/18.png\n",
            "Saved visualization to ./dataset/CutLER_annotations_smoothed/vis/19.png\n",
            "Saved visualization to ./dataset/CutLER_annotations_smoothed/vis/20.png\n",
            "Saved visualization to ./dataset/CutLER_annotations_smoothed/vis/21.png\n",
            "Saved visualization to ./dataset/CutLER_annotations_smoothed/vis/22.png\n",
            "Saved visualization to ./dataset/CutLER_annotations_smoothed/vis/23.png\n",
            "Saved visualization to ./dataset/CutLER_annotations_smoothed/vis/24.png\n",
            "Saved visualization to ./dataset/CutLER_annotations_smoothed/vis/25.png\n",
            "Saved visualization to ./dataset/CutLER_annotations_smoothed/vis/26.png\n",
            "Saved visualization to ./dataset/CutLER_annotations_smoothed/vis/27.png\n",
            "Saved visualization to ./dataset/CutLER_annotations_smoothed/vis/28.png\n",
            "Saved visualization to ./dataset/CutLER_annotations_smoothed/vis/29.png\n",
            "Saved visualization to ./dataset/CutLER_annotations_smoothed/vis/30.png\n",
            "Saved visualization to ./dataset/CutLER_annotations_smoothed/vis/31.png\n",
            "Saved visualization to ./dataset/CutLER_annotations_smoothed/vis/32.png\n",
            "Saved visualization to ./dataset/CutLER_annotations_smoothed/vis/33.png\n",
            "Saved visualization to ./dataset/CutLER_annotations_smoothed/vis/34.png\n",
            "Saved visualization to ./dataset/CutLER_annotations_smoothed/vis/35.png\n",
            "Saved visualization to ./dataset/CutLER_annotations_smoothed/vis/36.png\n",
            "Saved visualization to ./dataset/CutLER_annotations_smoothed/vis/37.png\n",
            "Saved visualization to ./dataset/CutLER_annotations_smoothed/vis/38.png\n",
            "Saved visualization to ./dataset/CutLER_annotations_smoothed/vis/39.png\n",
            "Saved visualization to ./dataset/CutLER_annotations_smoothed/vis/40.png\n",
            "Saved visualization to ./dataset/CutLER_annotations_smoothed/vis/41.png\n",
            "Saved visualization to ./dataset/CutLER_annotations_smoothed/vis/42.png\n",
            "Saved visualization to ./dataset/CutLER_annotations_smoothed/vis/43.png\n",
            "Saved visualization to ./dataset/CutLER_annotations_smoothed/vis/44.png\n",
            "Saved visualization to ./dataset/CutLER_annotations_smoothed/vis/45.png\n",
            "Saved visualization to ./dataset/CutLER_annotations_smoothed/vis/46.png\n",
            "Saved visualization to ./dataset/CutLER_annotations_smoothed/vis/47.png\n",
            "Saved visualization to ./dataset/CutLER_annotations_smoothed/vis/48.png\n",
            "Saved visualization to ./dataset/CutLER_annotations_smoothed/vis/49.png\n",
            "Saved visualization to ./dataset/CutLER_annotations_smoothed/vis/50.png\n",
            "Saved visualization to ./dataset/CutLER_annotations_smoothed/vis/51.png\n",
            "Saved visualization to ./dataset/CutLER_annotations_smoothed/vis/52.png\n",
            "Saved visualization to ./dataset/CutLER_annotations_smoothed/vis/53.png\n",
            "Saved visualization to ./dataset/CutLER_annotations_smoothed/vis/54.png\n",
            "Saved visualization to ./dataset/CutLER_annotations_smoothed/vis/55.png\n",
            "Saved visualization to ./dataset/CutLER_annotations_smoothed/vis/56.png\n",
            "Saved visualization to ./dataset/CutLER_annotations_smoothed/vis/57.png\n",
            "Saved visualization to ./dataset/CutLER_annotations_smoothed/vis/58.png\n",
            "Saved visualization to ./dataset/CutLER_annotations_smoothed/vis/59.png\n",
            "Saved visualization to ./dataset/CutLER_annotations_smoothed/vis/60.png\n",
            "Saved visualization to ./dataset/CutLER_annotations_smoothed/vis/61.png\n",
            "Saved visualization to ./dataset/CutLER_annotations_smoothed/vis/62.png\n",
            "Saved visualization to ./dataset/CutLER_annotations_smoothed/vis/63.png\n",
            "Saved visualization to ./dataset/CutLER_annotations_smoothed/vis/64.png\n",
            "Saved visualization to ./dataset/CutLER_annotations_smoothed/vis/65.png\n",
            "Saved visualization to ./dataset/CutLER_annotations_smoothed/vis/66.png\n",
            "Saved visualization to ./dataset/CutLER_annotations_smoothed/vis/67.png\n",
            "Saved visualization to ./dataset/CutLER_annotations_smoothed/vis/68.png\n",
            "Saved visualization to ./dataset/CutLER_annotations_smoothed/vis/69.png\n",
            "Saved visualization to ./dataset/CutLER_annotations_smoothed/vis/70.png\n",
            "Saved visualization to ./dataset/CutLER_annotations_smoothed/vis/71.png\n",
            "Saved visualization to ./dataset/CutLER_annotations_smoothed/vis/72.png\n",
            "Saved visualization to ./dataset/CutLER_annotations_smoothed/vis/73.png\n",
            "Saved visualization to ./dataset/CutLER_annotations_smoothed/vis/74.png\n",
            "Saved visualization to ./dataset/CutLER_annotations_smoothed/vis/75.png\n",
            "Saved visualization to ./dataset/CutLER_annotations_smoothed/vis/76.png\n",
            "Saved visualization to ./dataset/CutLER_annotations_smoothed/vis/77.png\n",
            "Saved visualization to ./dataset/CutLER_annotations_smoothed/vis/78.png\n",
            "Saved visualization to ./dataset/CutLER_annotations_smoothed/vis/79.png\n",
            "Saved visualization to ./dataset/CutLER_annotations_smoothed/vis/80.png\n",
            "Saved visualization to ./dataset/CutLER_annotations_smoothed/vis/81.png\n",
            "Saved visualization to ./dataset/CutLER_annotations_smoothed/vis/82.png\n",
            "Saved visualization to ./dataset/CutLER_annotations_smoothed/vis/83.png\n",
            "Saved visualization to ./dataset/CutLER_annotations_smoothed/vis/84.png\n",
            "Saved visualization to ./dataset/CutLER_annotations_smoothed/vis/85.png\n",
            "Saved visualization to ./dataset/CutLER_annotations_smoothed/vis/86.png\n",
            "Saved visualization to ./dataset/CutLER_annotations_smoothed/vis/87.png\n",
            "Saved visualization to ./dataset/CutLER_annotations_smoothed/vis/88.png\n",
            "Saved visualization to ./dataset/CutLER_annotations_smoothed/vis/89.png\n",
            "Saved visualization to ./dataset/CutLER_annotations_smoothed/vis/90.png\n",
            "Saved visualization to ./dataset/CutLER_annotations_smoothed/vis/91.png\n",
            "Saved visualization to ./dataset/CutLER_annotations_smoothed/vis/92.png\n",
            "Saved visualization to ./dataset/CutLER_annotations_smoothed/vis/93.png\n",
            "Saved visualization to ./dataset/CutLER_annotations_smoothed/vis/94.png\n",
            "Saved evaluation results to ./dataset/CutLER_annotations_smoothed/metrics.json\n",
            "Average AP: 0.1779\n",
            "Average AR: 0.4224\n",
            "Average IoU: 0.4729\n"
          ]
        }
      ]
    }
  ]
}