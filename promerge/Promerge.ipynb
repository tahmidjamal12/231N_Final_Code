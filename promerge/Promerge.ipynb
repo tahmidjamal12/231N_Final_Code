{
  "cells": [
    {
      "cell_type": "markdown",
      "metadata": {
        "id": "view-in-github",
        "colab_type": "text"
      },
      "source": [
        "<a href=\"https://colab.research.google.com/github/tahmidjamal12/231N_Final_Code/blob/cutler/promerge/Promerge.ipynb\" target=\"_parent\"><img src=\"https://colab.research.google.com/assets/colab-badge.svg\" alt=\"Open In Colab\"/></a>"
      ]
    },
    {
      "cell_type": "code",
      "execution_count": null,
      "metadata": {
        "colab": {
          "base_uri": "https://localhost:8080/"
        },
        "id": "e30kDrM4-eJZ",
        "outputId": "71f5c194-8a86-4d88-e50d-e29e57a05076"
      },
      "outputs": [
        {
          "name": "stdout",
          "output_type": "stream",
          "text": [
            "Drive already mounted at /content/drive; to attempt to forcibly remount, call drive.mount(\"/content/drive\", force_remount=True).\n"
          ]
        }
      ],
      "source": [
        "from google.colab import drive\n",
        "drive.mount('/content/drive')\n"
      ]
    },
    {
      "cell_type": "code",
      "execution_count": null,
      "metadata": {
        "colab": {
          "base_uri": "https://localhost:8080/"
        },
        "id": "LKqec0t696Ha",
        "outputId": "d38426d1-5a6f-414c-f0eb-a93a90d7710a"
      },
      "outputs": [
        {
          "name": "stdout",
          "output_type": "stream",
          "text": [
            "drive  sample_data\n",
            "/content/drive/MyDrive/ProMerge-main\n",
            "assets\t\t    CONTRIBUTING.md  LICENSE   README.md     setup.py\n",
            "CODE_OF_CONDUCT.md  dataset\t     promerge  segmentation\n"
          ]
        }
      ],
      "source": [
        "!ls\n",
        "%cd drive/MyDrive/ProMerge-main\n",
        "!ls\n"
      ]
    },
    {
      "cell_type": "code",
      "execution_count": null,
      "metadata": {
        "colab": {
          "base_uri": "https://localhost:8080/"
        },
        "id": "Q63khqRJCi-T",
        "outputId": "4c681f2d-5f31-4a20-cf80-792a9b55c8e2"
      },
      "outputs": [
        {
          "name": "stdout",
          "output_type": "stream",
          "text": [
            "\u001b[2K   \u001b[90m━━━━━━━━━━━━━━━━━━━━━━━━━━━━━━━━━━━━━━━━\u001b[0m \u001b[32m363.4/363.4 MB\u001b[0m \u001b[31m3.5 MB/s\u001b[0m eta \u001b[36m0:00:00\u001b[0m\n",
            "\u001b[2K   \u001b[90m━━━━━━━━━━━━━━━━━━━━━━━━━━━━━━━━━━━━━━━━\u001b[0m \u001b[32m13.8/13.8 MB\u001b[0m \u001b[31m124.3 MB/s\u001b[0m eta \u001b[36m0:00:00\u001b[0m\n",
            "\u001b[2K   \u001b[90m━━━━━━━━━━━━━━━━━━━━━━━━━━━━━━━━━━━━━━━━\u001b[0m \u001b[32m24.6/24.6 MB\u001b[0m \u001b[31m95.8 MB/s\u001b[0m eta \u001b[36m0:00:00\u001b[0m\n",
            "\u001b[2K   \u001b[90m━━━━━━━━━━━━━━━━━━━━━━━━━━━━━━━━━━━━━━━━\u001b[0m \u001b[32m883.7/883.7 kB\u001b[0m \u001b[31m60.0 MB/s\u001b[0m eta \u001b[36m0:00:00\u001b[0m\n",
            "\u001b[2K   \u001b[90m━━━━━━━━━━━━━━━━━━━━━━━━━━━━━━━━━━━━━━━━\u001b[0m \u001b[32m664.8/664.8 MB\u001b[0m \u001b[31m2.1 MB/s\u001b[0m eta \u001b[36m0:00:00\u001b[0m\n",
            "\u001b[2K   \u001b[90m━━━━━━━━━━━━━━━━━━━━━━━━━━━━━━━━━━━━━━━━\u001b[0m \u001b[32m211.5/211.5 MB\u001b[0m \u001b[31m5.2 MB/s\u001b[0m eta \u001b[36m0:00:00\u001b[0m\n",
            "\u001b[2K   \u001b[90m━━━━━━━━━━━━━━━━━━━━━━━━━━━━━━━━━━━━━━━━\u001b[0m \u001b[32m56.3/56.3 MB\u001b[0m \u001b[31m17.3 MB/s\u001b[0m eta \u001b[36m0:00:00\u001b[0m\n",
            "\u001b[2K   \u001b[90m━━━━━━━━━━━━━━━━━━━━━━━━━━━━━━━━━━━━━━━━\u001b[0m \u001b[32m127.9/127.9 MB\u001b[0m \u001b[31m7.5 MB/s\u001b[0m eta \u001b[36m0:00:00\u001b[0m\n",
            "\u001b[2K   \u001b[90m━━━━━━━━━━━━━━━━━━━━━━━━━━━━━━━━━━━━━━━━\u001b[0m \u001b[32m207.5/207.5 MB\u001b[0m \u001b[31m5.2 MB/s\u001b[0m eta \u001b[36m0:00:00\u001b[0m\n",
            "\u001b[2K   \u001b[90m━━━━━━━━━━━━━━━━━━━━━━━━━━━━━━━━━━━━━━━━\u001b[0m \u001b[32m21.1/21.1 MB\u001b[0m \u001b[31m43.7 MB/s\u001b[0m eta \u001b[36m0:00:00\u001b[0m\n",
            "\u001b[2K     \u001b[90m━━━━━━━━━━━━━━━━━━━━━━━━━━━━━━━━━━━━━━━━\u001b[0m \u001b[32m1.0/1.0 MB\u001b[0m \u001b[31m50.3 MB/s\u001b[0m eta \u001b[36m0:00:00\u001b[0m\n",
            "\u001b[?25h  \u001b[1;31merror\u001b[0m: \u001b[1msubprocess-exited-with-error\u001b[0m\n",
            "  \n",
            "  \u001b[31m×\u001b[0m \u001b[32mpython setup.py egg_info\u001b[0m did not run successfully.\n",
            "  \u001b[31m│\u001b[0m exit code: \u001b[1;36m1\u001b[0m\n",
            "  \u001b[31m╰─>\u001b[0m See above for output.\n",
            "  \n",
            "  \u001b[1;35mnote\u001b[0m: This error originates from a subprocess, and is likely not a problem with pip.\n",
            "  Preparing metadata (setup.py) ... \u001b[?25l\u001b[?25herror\n",
            "\u001b[1;31merror\u001b[0m: \u001b[1mmetadata-generation-failed\u001b[0m\n",
            "\n",
            "\u001b[31m×\u001b[0m Encountered error while generating package metadata.\n",
            "\u001b[31m╰─>\u001b[0m See above for output.\n",
            "\n",
            "\u001b[1;35mnote\u001b[0m: This is an issue with the package mentioned above, not pip.\n",
            "\u001b[1;36mhint\u001b[0m: See above for details.\n",
            "W: Skipping acquire of configured file 'main/source/Sources' as repository 'https://r2u.stat.illinois.edu/ubuntu jammy InRelease' does not seem to provide it (sources.list entry misspelt?)\n",
            "  Installing build dependencies ... \u001b[?25l\u001b[?25hdone\n",
            "  Getting requirements to build wheel ... \u001b[?25l\u001b[?25hdone\n",
            "  Preparing metadata (pyproject.toml) ... \u001b[?25l\u001b[?25hdone\n",
            "  Building wheel for pydensecrf (pyproject.toml) ... \u001b[?25l\u001b[?25hdone\n"
          ]
        }
      ],
      "source": [
        "\n",
        "\n",
        "# 3) Install dependencies\n",
        "!pip install -q torch torchvision torchaudio --extra-index-url https://download.pytorch.org/whl/cu118\n",
        "!pip install -q timm numpy opencv-python scikit-image pydensecrf matplotlib\n",
        "\n",
        "# 1) Install system‐level dependencies (Boost and OpenCV headers, etc.)\n",
        "!apt-get update -qq\n",
        "!apt-get install -y -qq libboost-python-dev libboost-system-dev libopencv-dev python3-dev\n",
        "\n",
        "# 2) Install pydensecrf directly from GitHub (so pip can compile it against the above libs)\n",
        "!pip install -q git+https://github.com/lucasb-eyer/pydensecrf.git\n",
        "\n"
      ]
    },
    {
      "cell_type": "code",
      "execution_count": null,
      "metadata": {
        "colab": {
          "base_uri": "https://localhost:8080/"
        },
        "id": "gYfNx5nbFzql",
        "outputId": "401c6815-971a-45fb-a41d-d0a0c1fa2419"
      },
      "outputs": [
        {
          "name": "stdout",
          "output_type": "stream",
          "text": [
            "Collecting inv\n",
            "  Downloading inv-0.1.0-py3-none-any.whl.metadata (480 bytes)\n",
            "Downloading inv-0.1.0-py3-none-any.whl (2.3 kB)\n",
            "Installing collected packages: inv\n",
            "Successfully installed inv-0.1.0\n"
          ]
        }
      ],
      "source": [
        "!pip install inv"
      ]
    },
    {
      "cell_type": "code",
      "execution_count": null,
      "metadata": {
        "colab": {
          "base_uri": "https://localhost:8080/"
        },
        "id": "qKklNWfh_YuB",
        "outputId": "6a7db704-84ac-458e-927f-33dd40be5fbc"
      },
      "outputs": [
        {
          "name": "stdout",
          "output_type": "stream",
          "text": [
            "/content/drive/MyDrive/ProMerge-main\n",
            "assets\t\t    CONTRIBUTING.md  LICENSE   README.md     setup.py\n",
            "CODE_OF_CONDUCT.md  dataset\t     promerge  segmentation\n"
          ]
        }
      ],
      "source": []
    },
    {
      "cell_type": "markdown",
      "metadata": {
        "id": "b2pzJkBo-zhO"
      },
      "source": [
        "Next we run evaluate_autoseg.py"
      ]
    },
    {
      "cell_type": "code",
      "execution_count": null,
      "metadata": {
        "id": "2DZYcl2aK5q0"
      },
      "outputs": [],
      "source": [
        "!touch /content/drive/MyDrive/ProMerge-main/promerge/__init__.py\n"
      ]
    },
    {
      "cell_type": "code",
      "execution_count": null,
      "metadata": {
        "colab": {
          "background_save": true,
          "base_uri": "https://localhost:8080/"
        },
        "id": "DxvH-EFE-qQd",
        "outputId": "db9a35fb-7667-459e-e8b0-403fd15ebd58"
      },
      "outputs": [
        {
          "name": "stdout",
          "output_type": "stream",
          "text": [
            "/content/drive/MyDrive/ProMerge-main\n",
            "Loading weight from https://dl.fbaipublicfiles.com/dino/dino_vitbase8_pretrain/dino_vitbase8_pretrain.pth\n",
            "Processing 1048806...\n",
            "Processing 1084700...\n",
            "Processing 1198308...\n",
            "Processing 1329374...\n",
            "Processing 1466599...\n",
            "Processing 1469047...\n",
            "Processing 1640409...\n",
            "Processing 1717180...\n",
            "Processing 1722689...\n",
            "Processing 1764561...\n",
            "Processing 1792951...\n",
            "Processing 1917605...\n",
            "Processing 2259240...\n",
            "Processing 2405729...\n",
            "Processing 2410522...\n",
            "Processing 2679129...\n",
            "Processing 2869582...\n",
            "Processing 2900490...\n",
            "Processing 2905492...\n",
            "Processing 3015297...\n",
            "Processing 3328423...\n",
            "Processing 3533213...\n",
            "Processing 3619724...\n",
            "Processing 3660511...\n",
            "Processing 3690129...\n",
            "Processing 3898893...\n",
            "Processing 4144816...\n",
            "Processing 4306518...\n",
            "Processing 4344389...\n",
            "Processing 4416466...\n",
            "Processing 4530135...\n",
            "Processing 4621539...\n",
            "Processing 4666376...\n",
            "Processing 4854045...\n",
            "Processing 4867664...\n",
            "Processing 4892239...\n",
            "Processing 4914225...\n",
            "Processing 4938381...\n",
            "Processing 5061858...\n",
            "Processing 5115627...\n",
            "Processing 5379356...\n",
            "Processing 5492027...\n",
            "Processing 5562241...\n",
            "Processing 5618182...\n",
            "Processing 5727951...\n",
            "Processing 5744532...\n",
            "Processing 5774358...\n",
            "Processing 5879485...\n",
            "Processing 5915780...\n",
            "Processing 5934270...\n",
            "Processing 6082985...\n",
            "Processing 6150502...\n",
            "Processing 6345081...\n",
            "Processing 6360143...\n",
            "Processing 6447571...\n",
            "Processing 6555315...\n",
            "Processing 6601962...\n",
            "Processing 6727629...\n",
            "Processing 6753756...\n",
            "Processing 6837548...\n",
            "Processing 7105077...\n",
            "Processing 7105918...\n",
            "Processing 7157377...\n",
            "Processing 7308971...\n",
            "Processing 7379952...\n",
            "Processing 7446585...\n",
            "Processing 7634081...\n",
            "Processing 7637401...\n",
            "Processing 7672980...\n",
            "Processing 7989230...\n",
            "Processing 8039067...\n",
            "Processing 8132183...\n",
            "Processing 8148334...\n",
            "Processing 8203241...\n",
            "Processing 8215594...\n",
            "Processing 8299345...\n",
            "Processing 8327116...\n",
            "Processing 8433154...\n",
            "Processing 8489177...\n",
            "Processing 8532027...\n",
            "Processing 8575958...\n",
            "Processing 8634442...\n",
            "Processing 8653845...\n",
            "Processing 8728693...\n",
            "Processing 8842808...\n",
            "Processing 9326790...\n",
            "Processing 9371128...\n",
            "Processing 9378882...\n",
            "Processing 9453252...\n",
            "Processing 9509606...\n",
            "Processing 9649552...\n",
            "Processing 9689776...\n",
            "Processing 9814658...\n",
            "Processing 9820137...\n",
            "Processing 9907781...\n",
            "Done writing all segments to './dataset/promerge_annotations_smoothed/segments.h5'.\n",
            "Saved visualization to ./dataset/promerge_annotations_smoothed/vis/0.png\n",
            "Saved visualization to ./dataset/promerge_annotations_smoothed/vis/1.png\n",
            "Saved visualization to ./dataset/promerge_annotations_smoothed/vis/2.png\n",
            "Saved visualization to ./dataset/promerge_annotations_smoothed/vis/3.png\n",
            "Saved visualization to ./dataset/promerge_annotations_smoothed/vis/4.png\n",
            "Saved visualization to ./dataset/promerge_annotations_smoothed/vis/5.png\n",
            "Saved visualization to ./dataset/promerge_annotations_smoothed/vis/6.png\n",
            "Saved visualization to ./dataset/promerge_annotations_smoothed/vis/7.png\n",
            "Saved visualization to ./dataset/promerge_annotations_smoothed/vis/8.png\n",
            "Saved visualization to ./dataset/promerge_annotations_smoothed/vis/9.png\n",
            "Saved visualization to ./dataset/promerge_annotations_smoothed/vis/10.png\n",
            "Saved visualization to ./dataset/promerge_annotations_smoothed/vis/11.png\n",
            "Saved visualization to ./dataset/promerge_annotations_smoothed/vis/12.png\n",
            "Saved visualization to ./dataset/promerge_annotations_smoothed/vis/13.png\n",
            "Saved visualization to ./dataset/promerge_annotations_smoothed/vis/14.png\n",
            "Saved visualization to ./dataset/promerge_annotations_smoothed/vis/15.png\n",
            "Saved visualization to ./dataset/promerge_annotations_smoothed/vis/16.png\n",
            "Saved visualization to ./dataset/promerge_annotations_smoothed/vis/17.png\n",
            "Saved visualization to ./dataset/promerge_annotations_smoothed/vis/18.png\n",
            "Saved visualization to ./dataset/promerge_annotations_smoothed/vis/19.png\n",
            "Saved visualization to ./dataset/promerge_annotations_smoothed/vis/20.png\n",
            "Saved visualization to ./dataset/promerge_annotations_smoothed/vis/21.png\n",
            "Saved visualization to ./dataset/promerge_annotations_smoothed/vis/22.png\n",
            "Saved visualization to ./dataset/promerge_annotations_smoothed/vis/23.png\n",
            "Saved visualization to ./dataset/promerge_annotations_smoothed/vis/24.png\n",
            "Saved visualization to ./dataset/promerge_annotations_smoothed/vis/25.png\n",
            "Saved visualization to ./dataset/promerge_annotations_smoothed/vis/26.png\n",
            "Saved visualization to ./dataset/promerge_annotations_smoothed/vis/27.png\n",
            "Saved visualization to ./dataset/promerge_annotations_smoothed/vis/28.png\n",
            "Saved visualization to ./dataset/promerge_annotations_smoothed/vis/29.png\n",
            "Saved visualization to ./dataset/promerge_annotations_smoothed/vis/30.png\n",
            "Saved visualization to ./dataset/promerge_annotations_smoothed/vis/31.png\n",
            "Saved visualization to ./dataset/promerge_annotations_smoothed/vis/32.png\n",
            "Saved visualization to ./dataset/promerge_annotations_smoothed/vis/33.png\n",
            "Saved visualization to ./dataset/promerge_annotations_smoothed/vis/34.png\n",
            "Saved visualization to ./dataset/promerge_annotations_smoothed/vis/35.png\n",
            "Saved visualization to ./dataset/promerge_annotations_smoothed/vis/36.png\n",
            "Saved visualization to ./dataset/promerge_annotations_smoothed/vis/37.png\n",
            "Saved visualization to ./dataset/promerge_annotations_smoothed/vis/38.png\n",
            "Saved visualization to ./dataset/promerge_annotations_smoothed/vis/39.png\n",
            "Saved visualization to ./dataset/promerge_annotations_smoothed/vis/40.png\n",
            "Saved visualization to ./dataset/promerge_annotations_smoothed/vis/41.png\n",
            "Saved visualization to ./dataset/promerge_annotations_smoothed/vis/42.png\n",
            "Saved visualization to ./dataset/promerge_annotations_smoothed/vis/43.png\n",
            "Saved visualization to ./dataset/promerge_annotations_smoothed/vis/44.png\n",
            "Saved visualization to ./dataset/promerge_annotations_smoothed/vis/45.png\n",
            "Saved visualization to ./dataset/promerge_annotations_smoothed/vis/46.png\n",
            "Saved visualization to ./dataset/promerge_annotations_smoothed/vis/47.png\n",
            "Saved visualization to ./dataset/promerge_annotations_smoothed/vis/48.png\n",
            "Saved visualization to ./dataset/promerge_annotations_smoothed/vis/49.png\n",
            "Saved visualization to ./dataset/promerge_annotations_smoothed/vis/50.png\n",
            "Saved visualization to ./dataset/promerge_annotations_smoothed/vis/51.png\n",
            "Saved visualization to ./dataset/promerge_annotations_smoothed/vis/52.png\n",
            "Saved visualization to ./dataset/promerge_annotations_smoothed/vis/53.png\n",
            "Saved visualization to ./dataset/promerge_annotations_smoothed/vis/54.png\n",
            "Saved visualization to ./dataset/promerge_annotations_smoothed/vis/55.png\n",
            "Saved visualization to ./dataset/promerge_annotations_smoothed/vis/56.png\n",
            "Saved visualization to ./dataset/promerge_annotations_smoothed/vis/57.png\n",
            "Saved visualization to ./dataset/promerge_annotations_smoothed/vis/58.png\n",
            "Saved visualization to ./dataset/promerge_annotations_smoothed/vis/59.png\n",
            "Saved visualization to ./dataset/promerge_annotations_smoothed/vis/60.png\n",
            "Saved visualization to ./dataset/promerge_annotations_smoothed/vis/61.png\n",
            "Saved visualization to ./dataset/promerge_annotations_smoothed/vis/62.png\n",
            "Saved visualization to ./dataset/promerge_annotations_smoothed/vis/63.png\n",
            "Saved visualization to ./dataset/promerge_annotations_smoothed/vis/64.png\n",
            "Saved visualization to ./dataset/promerge_annotations_smoothed/vis/65.png\n",
            "Saved visualization to ./dataset/promerge_annotations_smoothed/vis/66.png\n",
            "Saved visualization to ./dataset/promerge_annotations_smoothed/vis/67.png\n",
            "Saved visualization to ./dataset/promerge_annotations_smoothed/vis/68.png\n",
            "Saved visualization to ./dataset/promerge_annotations_smoothed/vis/69.png\n",
            "Saved visualization to ./dataset/promerge_annotations_smoothed/vis/70.png\n",
            "Saved visualization to ./dataset/promerge_annotations_smoothed/vis/71.png\n",
            "Saved visualization to ./dataset/promerge_annotations_smoothed/vis/72.png\n",
            "Saved visualization to ./dataset/promerge_annotations_smoothed/vis/73.png\n",
            "Saved visualization to ./dataset/promerge_annotations_smoothed/vis/74.png\n",
            "Saved visualization to ./dataset/promerge_annotations_smoothed/vis/75.png\n",
            "Saved visualization to ./dataset/promerge_annotations_smoothed/vis/76.png\n",
            "Saved visualization to ./dataset/promerge_annotations_smoothed/vis/77.png\n",
            "Saved visualization to ./dataset/promerge_annotations_smoothed/vis/78.png\n",
            "Saved visualization to ./dataset/promerge_annotations_smoothed/vis/79.png\n",
            "Saved visualization to ./dataset/promerge_annotations_smoothed/vis/80.png\n",
            "Saved visualization to ./dataset/promerge_annotations_smoothed/vis/81.png\n",
            "Saved visualization to ./dataset/promerge_annotations_smoothed/vis/82.png\n",
            "Saved visualization to ./dataset/promerge_annotations_smoothed/vis/83.png\n",
            "Saved visualization to ./dataset/promerge_annotations_smoothed/vis/84.png\n",
            "Saved visualization to ./dataset/promerge_annotations_smoothed/vis/85.png\n",
            "Saved visualization to ./dataset/promerge_annotations_smoothed/vis/86.png\n",
            "Saved visualization to ./dataset/promerge_annotations_smoothed/vis/87.png\n",
            "Saved visualization to ./dataset/promerge_annotations_smoothed/vis/88.png\n",
            "Saved visualization to ./dataset/promerge_annotations_smoothed/vis/89.png\n",
            "Saved visualization to ./dataset/promerge_annotations_smoothed/vis/90.png\n",
            "Saved visualization to ./dataset/promerge_annotations_smoothed/vis/91.png\n",
            "Saved visualization to ./dataset/promerge_annotations_smoothed/vis/92.png\n",
            "Saved visualization to ./dataset/promerge_annotations_smoothed/vis/93.png\n",
            "Saved visualization to ./dataset/promerge_annotations_smoothed/vis/94.png\n",
            "Saved evaluation results to ./dataset/promerge_annotations_smoothed/metrics.json\n",
            "Average AP: 0.5595\n",
            "Average AR: 0.4143\n",
            "Average IoU: 0.4680\n"
          ]
        }
      ],
      "source": [
        "!pwd\n",
        "!PYTHONPATH=/content/drive/MyDrive/ProMerge-main \\\n",
        "python /content/drive/MyDrive/ProMerge-main/segmentation/evaluate_autoseg.py \\\n",
        "  --save_dir './dataset/promerge_annotations_smoothed' \\\n",
        "  --annotations_h5 './dataset/promerge_input_data_smoothed.h5' \\\n",
        "  --test 'h5' 'vis' 'metrics'\n",
        "\n"
      ]
    },
    {
      "cell_type": "markdown",
      "metadata": {
        "id": "DEhnFNMM-qtI"
      },
      "source": [
        "-------------------"
      ]
    },
    {
      "cell_type": "markdown",
      "metadata": {
        "id": "bcWFfKq1P4YA"
      },
      "source": [
        "Go to the Promerge/promerge/utils.py\n",
        "Add the code:\n",
        "\n",
        "```\n",
        "import numpy as np\n",
        "\n",
        "from PIL import Image, ImageDraw\n",
        "\n",
        "def random_color(rgb=False, maximum=255, seed=None):\n",
        "    \"\"\"\n",
        "    Replacement for detectron2.utils.colormap.random_color.\n",
        "    Returns a random (R, G, B) tuple, each channel in [0…maximum].\n",
        "    \n",
        "    Args:\n",
        "      rgb (bool):  Ignored (kept for compatibility).\n",
        "      maximum (int):  Maximum value for each channel (inclusive).\n",
        "      seed (int or None):  If provided, seed numpy.random for reproducibility.\n",
        "    \"\"\"\n",
        "    if seed is not None:\n",
        "        np.random.seed(seed)\n",
        "    # randint is exclusive on the upper bound, so use maximum+1\n",
        "    return tuple(int(x) for x in np.random.randint(0, maximum + 1, size=3))\n",
        "```\n",
        "\n",
        "then delete the line\n",
        "\n",
        "```\n",
        "from detectron2.utils.colormap import random_color\n",
        "```"
      ]
    },
    {
      "cell_type": "markdown",
      "metadata": {
        "id": "0hywrGVJQhN-"
      },
      "source": [
        "In run_script.sh: change it to\n",
        "\n",
        "```\n",
        "# Copyright (c) Meta Platforms, Inc. and affiliates.\n",
        "#!/bin/bash\n",
        "CUDA_VISIBLE_DEVICES=0 \\\n",
        "python3 promerge.py --out_dir './annotations_out' \\\n",
        "--vit_arch base --dataset_path '../test_images/' \\\n",
        "--fixed_size 480 \\\n",
        "--stride 4 \\\n",
        "--bipartition_type threshold \\\n",
        "--bipartition_tau 0.2 \\\n",
        "--vit_feat k \\\n",
        "--foreground_include_tau 0.1 \\\n",
        "--intersection_merge_tau 0.5 \\\n",
        "--dino_merge_tau 0.1 \\\n",
        "--cc_maskarea_tau 0.5 \\\n",
        "--merge_ioa_tau 0.1 \\\n",
        "--iou_filter_tau 0.8 \\\n",
        "--suffix promerge_dir\n",
        "\n",
        "```"
      ]
    },
    {
      "cell_type": "code",
      "execution_count": null,
      "metadata": {
        "colab": {
          "base_uri": "https://localhost:8080/"
        },
        "id": "cKZc9lwgJiq6",
        "outputId": "be598ae6-7f3f-4ab9-836c-526b57392804"
      },
      "outputs": [
        {
          "name": "stdout",
          "output_type": "stream",
          "text": [
            "annotations_out  crf.py   foreground_filtering.py  __pycache__\t  utils.py\n",
            "annotations.py\t dino.py  promerge.py\t\t   run_script.sh\n",
            "Traceback (most recent call last):\n",
            "  File \"/content/ProMerge/promerge/promerge.py\", line 332, in <module>\n",
            "    assert os.path.exists(args.project_dir), f\"Project directory {args.project_dir} does not exist\"\n",
            "           ^^^^^^^^^^^^^^^^^^^^^^^^^^^^^^^^\n",
            "AssertionError: Project directory /home/cs-shin1/ProMerge does not exist\n"
          ]
        }
      ],
      "source": [
        "!ls\n",
        "!bash run_script.sh"
      ]
    },
    {
      "cell_type": "code",
      "execution_count": null,
      "metadata": {
        "colab": {
          "base_uri": "https://localhost:8080/"
        },
        "id": "ACEgYdEsQSZR",
        "outputId": "b0834187-08ad-48b9-b11d-f29513ca7524"
      },
      "outputs": [
        {
          "name": "stdout",
          "output_type": "stream",
          "text": [
            "/content/ProMerge\n",
            "assets\t\t    CONTRIBUTING.md  None      README.md\n",
            "CODE_OF_CONDUCT.md  LICENSE\t     promerge  test_images\n",
            "Namespace(vit_arch='base', suffix='myrun', vit_feat='k', dataset_path='imagenet/train/', fixed_size=480, stride=4, bipartition_type='threshold', bipartition_tau=0.2, bipartition_iterations=1, iou_filter_tau=0.8, merge_ioa_tau=0.1, foreground_include_tau=0.1, intersection_merge_tau=0.5, dino_merge_tau=0.1, cc_maskarea_tau=0.5, crf_iou_tau=0.5, full_annotations=True, project_dir='./', image_dir='./test_images', img_out_dir=None, final_figures_dir='./promerge/annotations_out')\n",
            "Making predictions for images in directory: .//./test_images\n",
            "Load base pre-trained feature...\n",
            "Loading weight from https://dl.fbaipublicfiles.com/dino/dino_vitbase8_pretrain/dino_vitbase8_pretrain.pth\n",
            "100% 2/2 [00:05<00:00,  2.70s/it]\n"
          ]
        }
      ],
      "source": [
        "!pwd\n",
        "\n",
        "!ls\n",
        "\n",
        "!python3 ./promerge/promerge.py \\\n",
        "  --full_annotations \\\n",
        "  --project_dir   ./ \\\n",
        "  --image_dir     ./test_images \\\n",
        "  --final_figures_dir   ./promerge/annotations_out \\\n",
        "  --vit_arch      base \\\n",
        "  --vit_feat      k \\\n",
        "  --fixed_size    480 \\\n",
        "  --stride        4 \\\n",
        "  --bipartition_type     threshold \\\n",
        "  --bipartition_tau      0.2 \\\n",
        "  --foreground_include_tau  0.1 \\\n",
        "  --intersection_merge_tau  0.5 \\\n",
        "  --dino_merge_tau         0.1 \\\n",
        "  --cc_maskarea_tau        0.5 \\\n",
        "  --merge_ioa_tau          0.1 \\\n",
        "  --iou_filter_tau         0.8 \\\n",
        "  --suffix  myrun\n"
      ]
    }
  ],
  "metadata": {
    "accelerator": "GPU",
    "colab": {
      "gpuType": "T4",
      "provenance": [],
      "include_colab_link": true
    },
    "kernelspec": {
      "display_name": "Python 3",
      "name": "python3"
    },
    "language_info": {
      "name": "python"
    }
  },
  "nbformat": 4,
  "nbformat_minor": 0
}